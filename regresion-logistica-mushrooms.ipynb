{
 "cells": [
  {
   "cell_type": "code",
   "execution_count": 12,
   "metadata": {},
   "outputs": [
    {
     "data": {
      "text/plain": [
       "array([[29,  0],\n",
       "       [ 0, 21]], dtype=int64)"
      ]
     },
     "execution_count": 12,
     "metadata": {},
     "output_type": "execute_result"
    }
   ],
   "source": [
    "import pandas as pd\n",
    "# Lea el archivo `mushrooms.csv` y asignelo al DataFrame `df`\n",
    "df = pd.read_csv(\"mushrooms.csv\", sep=',')\n",
    "\n",
    "# Remueva la columna `veil-type` del DataFrame `df`.\n",
    "# Esta columna tiene un valor constante y no sirve para la detección de hongos.\n",
    "\n",
    "\n",
    "df.drop(['veil_type'], axis = 'columns', inplace=True)\n",
    "\n",
    "# Asigne la columna `type` a la variable `y`.\n",
    "y = df['type']\n",
    "\n",
    "# Asigne una copia del dataframe `df` a la variable `X`.\n",
    "X = df.copy()\n",
    "\n",
    "# Remueva la columna `type` del DataFrame `X`.\n",
    "X.drop(['type'], axis = 'columns', inplace=True)\n",
    "\n",
    "from sklearn.model_selection import train_test_split\n",
    "\n",
    "(X_train, X_test, y_train, y_test,) = train_test_split(X,y,test_size=(50/X.shape[0]),random_state=123,)\n",
    "\n",
    "from sklearn.linear_model import LogisticRegressionCV\n",
    "from sklearn.preprocessing import OneHotEncoder\n",
    "from sklearn.pipeline import Pipeline\n",
    "\n",
    "pipeline = Pipeline(steps=[(\"OneHotEncoder\", OneHotEncoder()),(\"LogisticRegression\", LogisticRegressionCV(Cs=10)),],)\n",
    "\n",
    "# Entrene el pipeline con los datos de entrenamiento.\n",
    "pipeline.fit(X_train, y_train)\n",
    "\n",
    "from sklearn.metrics import confusion_matrix\n",
    "\n",
    "# Obtenga el pipeline de la pregunta 3.\n",
    "\n",
    "\n",
    "# Evalúe el pipeline con los datos de entrenamiento usando la matriz de confusion.\n",
    "    # Evalúe el pipeline con los datos de entrenamiento usando la matriz de confusion.\n",
    "cfm_train = confusion_matrix(\n",
    "        y_true=y_train,\n",
    "        y_pred=pipeline.predict(X_train),\n",
    "    )\n",
    "\n",
    "cfm_test = confusion_matrix(\n",
    "        y_true=y_test,\n",
    "        y_pred=pipeline.predict(X_test),\n",
    "    )\n",
    "\n",
    "\n",
    "cfm_train\n",
    "cfm_test\n"
   ]
  }
 ],
 "metadata": {
  "interpreter": {
   "hash": "612e3ef5c97a49f7244d5ba1a5d954671e7c9ffbccd844b49fd658242a0887c7"
  },
  "kernelspec": {
   "display_name": "Python 3.9.7 ('base')",
   "language": "python",
   "name": "python3"
  },
  "language_info": {
   "codemirror_mode": {
    "name": "ipython",
    "version": 3
   },
   "file_extension": ".py",
   "mimetype": "text/x-python",
   "name": "python",
   "nbconvert_exporter": "python",
   "pygments_lexer": "ipython3",
   "version": "3.9.7"
  },
  "orig_nbformat": 4
 },
 "nbformat": 4,
 "nbformat_minor": 2
}
